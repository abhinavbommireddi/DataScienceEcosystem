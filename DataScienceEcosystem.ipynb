{
 "cells": [
  {
   "cell_type": "markdown",
   "id": "2fde7870-2c6e-48a9-b4c3-57ba128d4a6f",
   "metadata": {},
   "source": [
    "# Data Science Tools and Ecosystem"
   ]
  },
  {
   "cell_type": "markdown",
   "id": "c4c3c1ad-d136-47a9-b79f-8c949637ce2e",
   "metadata": {},
   "source": [
    "__Objectives:__\n",
    "\n",
    "- List popular languages in Data Science\n",
    "- List commonly used libraries in Data Science\n",
    "- List popular Data Science tools\n",
    "- Perform multiplication and addition \n",
    "- Convert hours to minutes"
   ]
  },
  {
   "cell_type": "markdown",
   "id": "fbd1810e-d604-4de5-a8fc-f053d83a3ad0",
   "metadata": {},
   "source": [
    "In this notebook, Data Science Tools and Ecosystem are summarized."
   ]
  },
  {
   "cell_type": "markdown",
   "id": "0e7ba5bc-9229-44ff-945e-20f5a8c70d6d",
   "metadata": {},
   "source": [
    "Some of the popular languages that Data Scientists use are:\n",
    "1. Python\n",
    "2. R\n",
    "3. Julia"
   ]
  },
  {
   "cell_type": "markdown",
   "id": "5e57223f-d007-40dc-abbd-a37cec561cdd",
   "metadata": {},
   "source": [
    "Some of the commonly used libraries used by Data Scientists include:\n",
    "\n",
    "1. TensorFlow\n",
    "2. NumPy\n",
    "3. SciPy\n",
    "4. Pandas\n",
    "    "
   ]
  },
  {
   "cell_type": "markdown",
   "id": "bf04221a-52db-41b4-ad4b-c946f49f567e",
   "metadata": {},
   "source": [
    "|Data Science Tools:|\n",
    "|-------------------|\n",
    "|Jupyter Notebooks|\n",
    "|R Studio|\n",
    "|Zeppelin Notebooks|"
   ]
  },
  {
   "cell_type": "markdown",
   "id": "c7a49b82-8756-4cb4-a914-ea4948b3b0be",
   "metadata": {},
   "source": [
    "### Below are a few examples of evaluating arithmetic expressions in Python:\n"
   ]
  },
  {
   "cell_type": "code",
   "execution_count": 3,
   "id": "c032c119-08e3-4bee-8e22-c9c58df74305",
   "metadata": {},
   "outputs": [
    {
     "name": "stdout",
     "output_type": "stream",
     "text": [
      "17\n"
     ]
    }
   ],
   "source": [
    "#This a simple arithmetic expression to mutiply then add integers\n",
    "\n",
    "print((3*4) + 5)\n",
    "\n"
   ]
  },
  {
   "cell_type": "code",
   "execution_count": 12,
   "id": "f1a7509d-b163-4736-8771-5928d6658d95",
   "metadata": {},
   "outputs": [
    {
     "name": "stdout",
     "output_type": "stream",
     "text": [
      "3 hrs 20 mins\n"
     ]
    }
   ],
   "source": [
    "#This will convert 200 minutes to hours by diving by 60\n",
    "\n",
    "hrs = 200//60\n",
    "mins = 200%60\n",
    "print(hrs, \"hrs\", mins, \"mins\" )"
   ]
  },
  {
   "cell_type": "markdown",
   "id": "0ad781ad-fcf6-42c2-891e-8f8ba14c2913",
   "metadata": {},
   "source": [
    "## Author:\n",
    "Abhinav Bommireddi"
   ]
  },
  {
   "cell_type": "code",
   "execution_count": null,
   "id": "4c2831aa-479d-4565-a2c4-f92b830c52cb",
   "metadata": {},
   "outputs": [],
   "source": []
  }
 ],
 "metadata": {
  "kernelspec": {
   "display_name": "Python",
   "language": "python",
   "name": "conda-env-python-py"
  },
  "language_info": {
   "codemirror_mode": {
    "name": "ipython",
    "version": 3
   },
   "file_extension": ".py",
   "mimetype": "text/x-python",
   "name": "python",
   "nbconvert_exporter": "python",
   "pygments_lexer": "ipython3",
   "version": "3.7.12"
  }
 },
 "nbformat": 4,
 "nbformat_minor": 5
}
